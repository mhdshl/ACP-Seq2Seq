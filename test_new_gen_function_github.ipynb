{
  "nbformat": 4,
  "nbformat_minor": 0,
  "metadata": {
    "colab": {
      "provenance": [],
      "gpuType": "T4"
    },
    "kernelspec": {
      "name": "python3",
      "display_name": "Python 3"
    },
    "language_info": {
      "name": "python"
    },
    "accelerator": "GPU"
  },
  "cells": [
    {
      "cell_type": "markdown",
      "source": [
        "## Import Libraries"
      ],
      "metadata": {
        "id": "Hd1Hy5lucFcA"
      }
    },
    {
      "cell_type": "code",
      "execution_count": 1,
      "metadata": {
        "colab": {
          "base_uri": "https://localhost:8080/"
        },
        "id": "fc5KwWEsLKbV",
        "outputId": "ba719ec6-bb72-456a-ad23-239b81d60de6"
      },
      "outputs": [
        {
          "output_type": "stream",
          "name": "stdout",
          "text": [
            "Collecting wget\n",
            "  Downloading wget-3.2.zip (10 kB)\n",
            "  Preparing metadata (setup.py) ... \u001b[?25l\u001b[?25hdone\n",
            "Building wheels for collected packages: wget\n",
            "  Building wheel for wget (setup.py) ... \u001b[?25l\u001b[?25hdone\n",
            "  Created wheel for wget: filename=wget-3.2-py3-none-any.whl size=9656 sha256=3e3752f88da978f9e851174c7f14c08d6f8c847be96e73eac3153a4b4f7c1e01\n",
            "  Stored in directory: /root/.cache/pip/wheels/8b/f1/7f/5c94f0a7a505ca1c81cd1d9208ae2064675d97582078e6c769\n",
            "Successfully built wget\n",
            "Installing collected packages: wget\n",
            "Successfully installed wget-3.2\n"
          ]
        }
      ],
      "source": [
        "## import libraries\n",
        "from __future__ import absolute_import, division, print_function, unicode_literals\n",
        "import os\n",
        "import tensorflow as tf\n",
        "import numpy as np\n",
        "import pandas as pd\n",
        "from keras.callbacks import EarlyStopping\n",
        "!pip install wget\n",
        "import wget"
      ]
    },
    {
      "cell_type": "markdown",
      "source": [
        "## Download the ACP Generation Code from github Repo"
      ],
      "metadata": {
        "id": "j95lwA8-cJ5m"
      }
    },
    {
      "cell_type": "code",
      "source": [
        "acp_synthesis = wget.download('https://raw.githubusercontent.com/mhdshl/ACP_Seq2Seq/main/generate/acp_synthesis.py')\n",
        "# acp_feature_extraction = wget.download('https://raw.githubusercontent.com/mhdshl/ACP_Seq2Seq/main/utils/acp_feature_extraction.py')"
      ],
      "metadata": {
        "id": "a8URBOFMLTxY"
      },
      "execution_count": 2,
      "outputs": []
    },
    {
      "cell_type": "markdown",
      "source": [
        "### Import all functions from the ACP generation code"
      ],
      "metadata": {
        "id": "QKJggvPVcQTZ"
      }
    },
    {
      "cell_type": "code",
      "source": [
        "from acp_synthesis import *\n",
        "# from acp_feature_extraction import *"
      ],
      "metadata": {
        "id": "S5zpEmk_LUMF"
      },
      "execution_count": 3,
      "outputs": []
    },
    {
      "cell_type": "markdown",
      "source": [
        "## Import Datasets"
      ],
      "metadata": {
        "id": "ZiHUk5wkcWxE"
      }
    },
    {
      "cell_type": "code",
      "source": [
        "acp240 = pd.read_csv('https://raw.githubusercontent.com/mhdshl/ACP_Seq2Seq/main/Data/acp240.txt', header=None)\n",
        "acp740 = pd.read_csv('https://raw.githubusercontent.com/mhdshl/ACP_Seq2Seq/main/Data/acp740.txt', header=None)"
      ],
      "metadata": {
        "id": "8U7ePabzLYvr"
      },
      "execution_count": 4,
      "outputs": []
    },
    {
      "cell_type": "markdown",
      "source": [
        "## Convert the Sequences into Text and Combine the Sequences in One List"
      ],
      "metadata": {
        "id": "_rS0eHYKcbi1"
      }
    },
    {
      "cell_type": "code",
      "source": [
        "acp740_txt = seq_to_text(acp740)\n",
        "acp240_txt = seq_to_text(acp240)\n",
        "acp_txt = acp240_txt + '\\n' + acp740_txt\n",
        "aa2idx, idx2aa, aa_as_int, aa_dict = unique_chars(acp740_txt)\n",
        "print(aa2idx)\n",
        "print(idx2aa)\n",
        "print(aa_as_int)\n",
        "print(aa_dict)"
      ],
      "metadata": {
        "colab": {
          "base_uri": "https://localhost:8080/"
        },
        "id": "hIXQq7bQLkYk",
        "outputId": "bbf6c813-9b23-4407-92d3-59729a5e7ca1"
      },
      "execution_count": 5,
      "outputs": [
        {
          "output_type": "stream",
          "name": "stdout",
          "text": [
            "{'\\n': 0, 'A': 1, 'C': 2, 'D': 3, 'E': 4, 'F': 5, 'G': 6, 'H': 7, 'I': 8, 'K': 9, 'L': 10, 'M': 11, 'N': 12, 'P': 13, 'Q': 14, 'R': 15, 'S': 16, 'T': 17, 'V': 18, 'W': 19, 'Y': 20}\n",
            "['\\n' 'A' 'C' 'D' 'E' 'F' 'G' 'H' 'I' 'K' 'L' 'M' 'N' 'P' 'Q' 'R' 'S' 'T'\n",
            " 'V' 'W' 'Y']\n",
            "[ 6 10 19 ... 16 13  1]\n",
            "['\\n', 'A', 'C', 'D', 'E', 'F', 'G', 'H', 'I', 'K', 'L', 'M', 'N', 'P', 'Q', 'R', 'S', 'T', 'V', 'W', 'Y']\n"
          ]
        }
      ]
    },
    {
      "cell_type": "markdown",
      "source": [
        "## Generate Random Sequences without any ACP Sequence Generation Model"
      ],
      "metadata": {
        "id": "quteAcNtcrcp"
      }
    },
    {
      "cell_type": "code",
      "source": [
        "write_random_text(aa2idx, idx2aa, min_threshold=11, max_threshold=97, filename='random_from_func.txt', num_generate=150000)"
      ],
      "metadata": {
        "id": "sqqVVL8_Lwnd"
      },
      "execution_count": 6,
      "outputs": []
    },
    {
      "cell_type": "markdown",
      "source": [
        "## Create Dataset for Sequence Generation Model Training"
      ],
      "metadata": {
        "id": "MOWCAHYcc0bF"
      }
    },
    {
      "cell_type": "code",
      "source": [
        "seq_batch, aa_dataset, idx2aa, aa_dict = create_batch(acp_txt)\n",
        "dataset = seq_batch.map(split_input_target)\n",
        "dataset = create_dataset(acp_txt)"
      ],
      "metadata": {
        "id": "O336BtN0MDE8"
      },
      "execution_count": 7,
      "outputs": []
    },
    {
      "cell_type": "markdown",
      "source": [
        "## Train and Load the Model"
      ],
      "metadata": {
        "id": "azf1mfVRc5Id"
      }
    },
    {
      "cell_type": "code",
      "source": [
        "model = train_gen_model(dataset, len(aa_dict), embedding_dim= 256, rnn_units= 1024, batch_size=64, EPOCHS=100)"
      ],
      "metadata": {
        "colab": {
          "base_uri": "https://localhost:8080/"
        },
        "id": "wOiNkFCWMHnE",
        "outputId": "5b02255e-d7ef-4526-c964-c518d3bfbf39"
      },
      "execution_count": 9,
      "outputs": [
        {
          "output_type": "stream",
          "name": "stdout",
          "text": [
            "Epoch 1/100\n",
            "6/6 - 6s - loss: 3.0998 - 6s/epoch - 918ms/step\n",
            "Epoch 2/100\n",
            "6/6 - 1s - loss: 2.9835 - 1s/epoch - 189ms/step\n",
            "Epoch 3/100\n",
            "6/6 - 1s - loss: 2.9088 - 992ms/epoch - 165ms/step\n",
            "Epoch 4/100\n",
            "6/6 - 1s - loss: 2.8672 - 866ms/epoch - 144ms/step\n",
            "Epoch 5/100\n",
            "6/6 - 1s - loss: 2.8542 - 786ms/epoch - 131ms/step\n",
            "Epoch 6/100\n",
            "6/6 - 1s - loss: 2.8352 - 830ms/epoch - 138ms/step\n",
            "Epoch 7/100\n",
            "6/6 - 4s - loss: 2.8285 - 4s/epoch - 599ms/step\n",
            "Epoch 8/100\n",
            "6/6 - 1s - loss: 2.8204 - 1s/epoch - 173ms/step\n",
            "Epoch 9/100\n",
            "6/6 - 1s - loss: 2.8070 - 810ms/epoch - 135ms/step\n",
            "Epoch 10/100\n",
            "6/6 - 1s - loss: 2.7965 - 1s/epoch - 206ms/step\n",
            "Epoch 11/100\n",
            "6/6 - 1s - loss: 2.7911 - 892ms/epoch - 149ms/step\n",
            "Epoch 12/100\n",
            "6/6 - 1s - loss: 2.7651 - 1s/epoch - 174ms/step\n",
            "Epoch 13/100\n",
            "6/6 - 1s - loss: 2.7543 - 876ms/epoch - 146ms/step\n",
            "Epoch 14/100\n",
            "6/6 - 4s - loss: 2.7452 - 4s/epoch - 673ms/step\n",
            "Epoch 15/100\n",
            "6/6 - 1s - loss: 2.7182 - 880ms/epoch - 147ms/step\n",
            "Epoch 16/100\n",
            "6/6 - 1s - loss: 2.6959 - 855ms/epoch - 143ms/step\n",
            "Epoch 17/100\n",
            "6/6 - 1s - loss: 2.6890 - 853ms/epoch - 142ms/step\n",
            "Epoch 18/100\n",
            "6/6 - 1s - loss: 2.6783 - 872ms/epoch - 145ms/step\n",
            "Epoch 19/100\n",
            "6/6 - 1s - loss: 2.6806 - 843ms/epoch - 141ms/step\n",
            "Epoch 20/100\n",
            "6/6 - 1s - loss: 2.6600 - 886ms/epoch - 148ms/step\n",
            "Epoch 21/100\n",
            "6/6 - 4s - loss: 2.6397 - 4s/epoch - 692ms/step\n",
            "Epoch 22/100\n",
            "6/6 - 1s - loss: 2.6185 - 838ms/epoch - 140ms/step\n",
            "Epoch 23/100\n",
            "6/6 - 1s - loss: 2.6211 - 901ms/epoch - 150ms/step\n",
            "Epoch 24/100\n",
            "6/6 - 1s - loss: 2.6073 - 890ms/epoch - 148ms/step\n",
            "Epoch 25/100\n",
            "6/6 - 1s - loss: 2.5707 - 857ms/epoch - 143ms/step\n",
            "Epoch 26/100\n",
            "6/6 - 1s - loss: 2.5504 - 857ms/epoch - 143ms/step\n",
            "Epoch 27/100\n",
            "6/6 - 1s - loss: 2.5488 - 1s/epoch - 242ms/step\n",
            "Epoch 28/100\n",
            "6/6 - 1s - loss: 2.5031 - 977ms/epoch - 163ms/step\n",
            "Epoch 29/100\n",
            "6/6 - 1s - loss: 2.4839 - 1s/epoch - 188ms/step\n",
            "Epoch 30/100\n",
            "6/6 - 1s - loss: 2.4566 - 993ms/epoch - 166ms/step\n",
            "Epoch 31/100\n",
            "6/6 - 1s - loss: 2.4314 - 883ms/epoch - 147ms/step\n",
            "Epoch 32/100\n",
            "6/6 - 1s - loss: 2.3665 - 854ms/epoch - 142ms/step\n",
            "Epoch 33/100\n",
            "6/6 - 1s - loss: 2.3418 - 872ms/epoch - 145ms/step\n",
            "Epoch 34/100\n",
            "6/6 - 1s - loss: 2.2802 - 856ms/epoch - 143ms/step\n",
            "Epoch 35/100\n",
            "6/6 - 1s - loss: 2.2208 - 943ms/epoch - 157ms/step\n",
            "Epoch 36/100\n",
            "6/6 - 1s - loss: 2.1717 - 845ms/epoch - 141ms/step\n",
            "Epoch 37/100\n",
            "6/6 - 1s - loss: 2.0967 - 945ms/epoch - 157ms/step\n",
            "Epoch 38/100\n",
            "6/6 - 1s - loss: 2.0142 - 766ms/epoch - 128ms/step\n",
            "Epoch 39/100\n",
            "6/6 - 1s - loss: 1.9365 - 942ms/epoch - 157ms/step\n",
            "Epoch 40/100\n",
            "6/6 - 1s - loss: 1.8618 - 914ms/epoch - 152ms/step\n",
            "Epoch 41/100\n",
            "6/6 - 4s - loss: 1.7542 - 4s/epoch - 649ms/step\n",
            "Epoch 42/100\n",
            "6/6 - 1s - loss: 1.6852 - 848ms/epoch - 141ms/step\n",
            "Epoch 43/100\n",
            "6/6 - 1s - loss: 1.5906 - 937ms/epoch - 156ms/step\n",
            "Epoch 44/100\n",
            "6/6 - 1s - loss: 1.4871 - 820ms/epoch - 137ms/step\n",
            "Epoch 45/100\n",
            "6/6 - 1s - loss: 1.3919 - 921ms/epoch - 154ms/step\n",
            "Epoch 46/100\n",
            "6/6 - 1s - loss: 1.2694 - 810ms/epoch - 135ms/step\n",
            "Epoch 47/100\n",
            "6/6 - 1s - loss: 1.1734 - 1s/epoch - 171ms/step\n",
            "Epoch 48/100\n",
            "6/6 - 1s - loss: 1.0742 - 923ms/epoch - 154ms/step\n",
            "Epoch 49/100\n",
            "6/6 - 2s - loss: 0.9980 - 2s/epoch - 263ms/step\n",
            "Epoch 50/100\n",
            "6/6 - 1s - loss: 0.9196 - 1s/epoch - 177ms/step\n",
            "Epoch 51/100\n",
            "6/6 - 1s - loss: 0.8460 - 1s/epoch - 173ms/step\n",
            "Epoch 52/100\n",
            "6/6 - 1s - loss: 0.7779 - 883ms/epoch - 147ms/step\n",
            "Epoch 53/100\n",
            "6/6 - 2s - loss: 0.7129 - 2s/epoch - 278ms/step\n",
            "Epoch 54/100\n",
            "6/6 - 2s - loss: 0.6729 - 2s/epoch - 375ms/step\n",
            "Epoch 55/100\n",
            "6/6 - 1s - loss: 0.6288 - 989ms/epoch - 165ms/step\n",
            "Epoch 56/100\n",
            "6/6 - 1s - loss: 0.5892 - 818ms/epoch - 136ms/step\n",
            "Epoch 57/100\n",
            "6/6 - 1s - loss: 0.5496 - 978ms/epoch - 163ms/step\n",
            "Epoch 58/100\n",
            "6/6 - 1s - loss: 0.5261 - 829ms/epoch - 138ms/step\n",
            "Epoch 59/100\n",
            "6/6 - 1s - loss: 0.4915 - 1s/epoch - 200ms/step\n",
            "Epoch 60/100\n",
            "6/6 - 1s - loss: 0.4637 - 1s/epoch - 173ms/step\n",
            "Epoch 61/100\n",
            "6/6 - 3s - loss: 0.4448 - 3s/epoch - 559ms/step\n",
            "Epoch 62/100\n",
            "6/6 - 1s - loss: 0.4274 - 866ms/epoch - 144ms/step\n",
            "Epoch 63/100\n",
            "6/6 - 1s - loss: 0.4175 - 969ms/epoch - 162ms/step\n",
            "Epoch 64/100\n",
            "6/6 - 1s - loss: 0.4009 - 823ms/epoch - 137ms/step\n",
            "Epoch 65/100\n",
            "6/6 - 1s - loss: 0.3941 - 961ms/epoch - 160ms/step\n",
            "Epoch 66/100\n",
            "6/6 - 1s - loss: 0.3680 - 799ms/epoch - 133ms/step\n",
            "Epoch 67/100\n",
            "6/6 - 1s - loss: 0.3493 - 1s/epoch - 205ms/step\n",
            "Epoch 68/100\n",
            "6/6 - 1s - loss: 0.3503 - 1s/epoch - 182ms/step\n",
            "Epoch 69/100\n",
            "6/6 - 1s - loss: 0.3525 - 867ms/epoch - 145ms/step\n",
            "Epoch 70/100\n",
            "6/6 - 1s - loss: 0.3326 - 850ms/epoch - 142ms/step\n",
            "Epoch 71/100\n",
            "6/6 - 2s - loss: 0.3237 - 2s/epoch - 270ms/step\n",
            "Epoch 72/100\n",
            "6/6 - 1s - loss: 0.3121 - 880ms/epoch - 147ms/step\n",
            "Epoch 73/100\n",
            "6/6 - 1s - loss: 0.3121 - 891ms/epoch - 148ms/step\n",
            "Epoch 74/100\n",
            "6/6 - 1s - loss: 0.2986 - 822ms/epoch - 137ms/step\n",
            "Epoch 75/100\n",
            "6/6 - 2s - loss: 0.2936 - 2s/epoch - 260ms/step\n",
            "Epoch 76/100\n",
            "6/6 - 1s - loss: 0.2890 - 949ms/epoch - 158ms/step\n",
            "Epoch 77/100\n",
            "6/6 - 1s - loss: 0.2810 - 1s/epoch - 180ms/step\n",
            "Epoch 78/100\n",
            "6/6 - 1s - loss: 0.2692 - 1s/epoch - 186ms/step\n",
            "Epoch 79/100\n",
            "6/6 - 1s - loss: 0.2685 - 888ms/epoch - 148ms/step\n",
            "Epoch 80/100\n",
            "6/6 - 1s - loss: 0.2674 - 949ms/epoch - 158ms/step\n",
            "Epoch 81/100\n",
            "6/6 - 1s - loss: 0.2632 - 835ms/epoch - 139ms/step\n",
            "Epoch 82/100\n",
            "6/6 - 1s - loss: 0.2599 - 881ms/epoch - 147ms/step\n",
            "Epoch 83/100\n",
            "6/6 - 1s - loss: 0.2550 - 825ms/epoch - 138ms/step\n",
            "Epoch 84/100\n",
            "6/6 - 2s - loss: 0.2506 - 2s/epoch - 260ms/step\n",
            "Epoch 85/100\n",
            "6/6 - 1s - loss: 0.2475 - 839ms/epoch - 140ms/step\n",
            "Epoch 86/100\n",
            "6/6 - 1s - loss: 0.2430 - 858ms/epoch - 143ms/step\n",
            "Epoch 87/100\n",
            "6/6 - 1s - loss: 0.2390 - 898ms/epoch - 150ms/step\n",
            "Epoch 88/100\n",
            "6/6 - 1s - loss: 0.2372 - 1s/epoch - 171ms/step\n",
            "Epoch 89/100\n",
            "6/6 - 1s - loss: 0.2274 - 1s/epoch - 167ms/step\n",
            "Epoch 90/100\n",
            "6/6 - 1s - loss: 0.2272 - 1s/epoch - 167ms/step\n",
            "Epoch 91/100\n",
            "6/6 - 1s - loss: 0.2251 - 959ms/epoch - 160ms/step\n",
            "Epoch 92/100\n",
            "6/6 - 1s - loss: 0.2218 - 841ms/epoch - 140ms/step\n",
            "Epoch 93/100\n",
            "6/6 - 2s - loss: 0.2237 - 2s/epoch - 291ms/step\n",
            "Epoch 94/100\n",
            "6/6 - 1s - loss: 0.2243 - 878ms/epoch - 146ms/step\n",
            "Epoch 95/100\n",
            "6/6 - 1s - loss: 0.2122 - 1s/epoch - 240ms/step\n",
            "Epoch 96/100\n",
            "6/6 - 1s - loss: 0.2132 - 852ms/epoch - 142ms/step\n",
            "Epoch 97/100\n",
            "6/6 - 1s - loss: 0.2162 - 948ms/epoch - 158ms/step\n",
            "Epoch 98/100\n",
            "6/6 - 1s - loss: 0.2071 - 958ms/epoch - 160ms/step\n",
            "Epoch 99/100\n",
            "6/6 - 4s - loss: 0.2017 - 4s/epoch - 599ms/step\n",
            "Epoch 100/100\n",
            "6/6 - 1s - loss: 0.2020 - 924ms/epoch - 154ms/step\n"
          ]
        }
      ]
    },
    {
      "cell_type": "markdown",
      "source": [
        "## Generate ACP Sequences using the Trained Model"
      ],
      "metadata": {
        "id": "pn9UYvRec-GH"
      }
    },
    {
      "cell_type": "code",
      "source": [
        "f = open('gen_from_model.txt', 'w')\n",
        "f.write(generate_text(aa2idx,idx2aa, model,min_thres=11,max_thres=97, num_generate=150000, temperature=1.0))\n",
        "f.close()"
      ],
      "metadata": {
        "id": "mcWV1NkIM7-z"
      },
      "execution_count": 12,
      "outputs": []
    }
  ]
}